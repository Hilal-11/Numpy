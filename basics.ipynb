{
 "cells": [
  {
   "cell_type": "markdown",
   "metadata": {},
   "source": [
    "## Numpy array and basics\n",
    "lwarn about numpy"
   ]
  },
  {
   "cell_type": "code",
   "execution_count": null,
   "metadata": {},
   "outputs": [],
   "source": [
    "import numpy as np\n"
   ]
  },
  {
   "cell_type": "markdown",
   "metadata": {},
   "source": [
    "## 1-Dimensional arrays"
   ]
  },
  {
   "cell_type": "code",
   "execution_count": null,
   "metadata": {},
   "outputs": [
    {
     "name": "stdout",
     "output_type": "stream",
     "text": [
      "1-D array [10 20 30 40 50]\n"
     ]
    }
   ],
   "source": [
    "\n",
    "data = np.array([10 , 20 , 30 , 40 , 50])\n",
    "print(\"1-D array\",data)\n"
   ]
  },
  {
   "cell_type": "markdown",
   "metadata": {},
   "source": [
    "## 2-dimensional arrays\n"
   ]
  },
  {
   "cell_type": "code",
   "execution_count": null,
   "metadata": {},
   "outputs": [
    {
     "name": "stdout",
     "output_type": "stream",
     "text": [
      "[[10 20 30]\n",
      " [99 44 76]\n",
      " [42 23 91]]\n"
     ]
    }
   ],
   "source": [
    "data_2d = np.array([\n",
    "    [10 , 20 , 30],\n",
    "    [99 , 44 , 76],\n",
    "    [42 , 23 , 91]\n",
    "    ])\n",
    "print(data_2d)"
   ]
  },
  {
   "cell_type": "markdown",
   "metadata": {},
   "source": [
    "\n",
    "Multi Dimensional Arrays\n"
   ]
  },
  {
   "cell_type": "code",
   "execution_count": null,
   "metadata": {},
   "outputs": [
    {
     "name": "stdout",
     "output_type": "stream",
     "text": [
      "[[10 77 89 10]\n",
      " [12 65 89 19]\n",
      " [12 31 71 78]\n",
      " [10 16 81 44]]\n"
     ]
    }
   ],
   "source": [
    "multiDim_array = np.array([\n",
    "    [10 , 77 , 89 , 10],\n",
    "    [12 , 65 , 89 , 19],\n",
    "    [12 , 31 , 71 , 78],\n",
    "    [10 , 16 , 81 , 44]\n",
    "])\n",
    "print(multiDim_array)"
   ]
  },
  {
   "cell_type": "markdown",
   "metadata": {},
   "source": [
    "Lists and numpy arrays"
   ]
  },
  {
   "cell_type": "code",
   "execution_count": null,
   "metadata": {},
   "outputs": [
    {
     "name": "stdout",
     "output_type": "stream",
     "text": [
      "Python list Multiplication [10, 7, 8, 31, 10, 7, 8, 31]\n"
     ]
    }
   ],
   "source": [
    "py_list = [10 , 7 , 8 , 31]\n",
    "print(\"Python list Multiplication\",py_list * 2)"
   ]
  },
  {
   "cell_type": "code",
   "execution_count": null,
   "metadata": {},
   "outputs": [
    {
     "name": "stdout",
     "output_type": "stream",
     "text": [
      "Numpy Array multiplication =  [20 14 16 62]\n"
     ]
    }
   ],
   "source": [
    "numpy_array = np.array([10 , 7 , 8 , 31])\n",
    "print(\"Numpy Array multiplication = \", numpy_array * 2)\n"
   ]
  },
  {
   "cell_type": "code",
   "execution_count": 16,
   "metadata": {},
   "outputs": [
    {
     "name": "stdout",
     "output_type": "stream",
     "text": [
      "Python List Time =  7.421946287155151\n",
      "Numpy Array Time =  0.493807315826416\n"
     ]
    }
   ],
   "source": [
    "import time\n",
    "start = time.time()\n",
    "python_list = [i*2 for i in range(100000000)]\n",
    "print(\"Python List Time = \" ,time.time() - start)\n",
    "\n",
    "start = time.time()\n",
    "numpy_array = np.arange(100000000) * 2\n",
    "print(\"Numpy Array Time = \" ,time.time() - start)"
   ]
  }
 ],
 "metadata": {
  "kernelspec": {
   "display_name": "env",
   "language": "python",
   "name": "python3"
  },
  "language_info": {
   "codemirror_mode": {
    "name": "ipython",
    "version": 3
   },
   "file_extension": ".py",
   "mimetype": "text/x-python",
   "name": "python",
   "nbconvert_exporter": "python",
   "pygments_lexer": "ipython3",
   "version": "3.12.2"
  }
 },
 "nbformat": 4,
 "nbformat_minor": 2
}
