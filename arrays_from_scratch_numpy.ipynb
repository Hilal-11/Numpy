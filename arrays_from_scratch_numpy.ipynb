{
 "cells": [
  {
   "cell_type": "markdown",
   "metadata": {},
   "source": [
    "Creating Arrays from Scratch\n"
   ]
  },
  {
   "cell_type": "code",
   "execution_count": 1,
   "metadata": {},
   "outputs": [],
   "source": [
    "import numpy as np"
   ]
  },
  {
   "cell_type": "code",
   "execution_count": 3,
   "metadata": {},
   "outputs": [
    {
     "name": "stdout",
     "output_type": "stream",
     "text": [
      "[[0. 0. 0. 0.]\n",
      " [0. 0. 0. 0.]\n",
      " [0. 0. 0. 0.]\n",
      " [0. 0. 0. 0.]]\n"
     ]
    }
   ],
   "source": [
    "zeros = np.zeros((4 , 4))\n",
    "print(zeros)"
   ]
  },
  {
   "cell_type": "markdown",
   "metadata": {},
   "source": [
    "Ones array"
   ]
  },
  {
   "cell_type": "code",
   "execution_count": 5,
   "metadata": {},
   "outputs": [
    {
     "name": "stdout",
     "output_type": "stream",
     "text": [
      "[[1. 1. 1. 1. 1.]\n",
      " [1. 1. 1. 1. 1.]\n",
      " [1. 1. 1. 1. 1.]\n",
      " [1. 1. 1. 1. 1.]]\n"
     ]
    }
   ],
   "source": [
    "ones = np.ones((4 , 5))\n",
    "print(ones)"
   ]
  },
  {
   "cell_type": "markdown",
   "metadata": {},
   "source": [
    "Constant array values"
   ]
  },
  {
   "cell_type": "code",
   "execution_count": 7,
   "metadata": {},
   "outputs": [
    {
     "name": "stdout",
     "output_type": "stream",
     "text": [
      "[[11 11 11]\n",
      " [11 11 11]\n",
      " [11 11 11]]\n"
     ]
    }
   ],
   "source": [
    "full = np.full((3 , 3), 11)\n",
    "print(full)"
   ]
  },
  {
   "cell_type": "markdown",
   "metadata": {},
   "source": [
    "Random Arrays with  Random elements"
   ]
  },
  {
   "cell_type": "code",
   "execution_count": 23,
   "metadata": {},
   "outputs": [
    {
     "name": "stdout",
     "output_type": "stream",
     "text": [
      "[[0.64872339 0.96243195 0.01487026 0.24432361 0.87234625]\n",
      " [0.48642666 0.11789453 0.7314371  0.48062142 0.39969964]\n",
      " [0.25010453 0.3138514  0.83032209 0.46675488 0.53589424]\n",
      " [0.32400126 0.59889563 0.50665603 0.14195224 0.66375552]\n",
      " [0.83967122 0.6912518  0.1699017  0.33721542 0.67840745]]\n"
     ]
    }
   ],
   "source": [
    "random_arrays = np.random.random((5 , 5))\n",
    "print(random_arrays)"
   ]
  },
  {
   "cell_type": "markdown",
   "metadata": {},
   "source": [
    "Sequence of elements in range "
   ]
  },
  {
   "cell_type": "code",
   "execution_count": 30,
   "metadata": {},
   "outputs": [
    {
     "name": "stdout",
     "output_type": "stream",
     "text": [
      "[   0    5   10   15   20   25   30   35   40   45   50   55   60   65\n",
      "   70   75   80   85   90   95  100  105  110  115  120  125  130  135\n",
      "  140  145  150  155  160  165  170  175  180  185  190  195  200  205\n",
      "  210  215  220  225  230  235  240  245  250  255  260  265  270  275\n",
      "  280  285  290  295  300  305  310  315  320  325  330  335  340  345\n",
      "  350  355  360  365  370  375  380  385  390  395  400  405  410  415\n",
      "  420  425  430  435  440  445  450  455  460  465  470  475  480  485\n",
      "  490  495  500  505  510  515  520  525  530  535  540  545  550  555\n",
      "  560  565  570  575  580  585  590  595  600  605  610  615  620  625\n",
      "  630  635  640  645  650  655  660  665  670  675  680  685  690  695\n",
      "  700  705  710  715  720  725  730  735  740  745  750  755  760  765\n",
      "  770  775  780  785  790  795  800  805  810  815  820  825  830  835\n",
      "  840  845  850  855  860  865  870  875  880  885  890  895  900  905\n",
      "  910  915  920  925  930  935  940  945  950  955  960  965  970  975\n",
      "  980  985  990  995 1000]\n"
     ]
    }
   ],
   "source": [
    "sequence = np.arange(0 , 1000+1 , 5)\n",
    "print(sequence)"
   ]
  },
  {
   "cell_type": "markdown",
   "metadata": {},
   "source": [
    "Vector , Matrix , Tensor"
   ]
  },
  {
   "cell_type": "code",
   "execution_count": 32,
   "metadata": {},
   "outputs": [
    {
     "name": "stdout",
     "output_type": "stream",
     "text": [
      "Vector =  [10 20 88 99 51]\n"
     ]
    }
   ],
   "source": [
    "vector = np.array([10 , 20 , 88 , 99 , 51])\n",
    "print(\"Vector = \", vector)"
   ]
  },
  {
   "cell_type": "code",
   "execution_count": 34,
   "metadata": {},
   "outputs": [
    {
     "name": "stdout",
     "output_type": "stream",
     "text": [
      "[[10 11 98 80]\n",
      " [10 11 98 80]\n",
      " [10 11 98 80]\n",
      " [10 11 98 80]]\n"
     ]
    }
   ],
   "source": [
    "matrix = np.array([\n",
    "    [10 , 11 , 98 , 80],\n",
    "    [10 , 11 , 98 , 80],\n",
    "    [10 , 11 , 98 , 80],\n",
    "    [10 , 11 , 98 , 80]\n",
    "])\n",
    "print(matrix)"
   ]
  },
  {
   "cell_type": "markdown",
   "metadata": {},
   "source": [
    "Multi-Dimentional Arrays"
   ]
  },
  {
   "cell_type": "code",
   "execution_count": 37,
   "metadata": {},
   "outputs": [
    {
     "name": "stdout",
     "output_type": "stream",
     "text": [
      "Tendor  =  [[[10 11 98 99 61 76]\n",
      "  [10 11 98 99 61 76]]\n",
      "\n",
      " [[10 11 98 99 61 76]\n",
      "  [10 11 98 99 61 76]]\n",
      "\n",
      " [[10 11 98 99 61 76]\n",
      "  [10 11 98 99 61 76]]\n",
      "\n",
      " [[10 11 98 99 61 76]\n",
      "  [10 11 98 99 61 76]]]\n"
     ]
    }
   ],
   "source": [
    "tensor = np.array([\n",
    "    [\n",
    "        [10 , 11 , 98 , 99 , 61 , 76],[10 , 11 , 98 , 99 , 61 , 76]\n",
    "    ],\n",
    "    [\n",
    "        [10 , 11 , 98 , 99 , 61 , 76],[10 , 11 , 98 , 99 , 61 , 76]\n",
    "    ],\n",
    "    [\n",
    "        [10 , 11 , 98 , 99 , 61 , 76],[10 , 11 , 98 , 99 , 61 , 76]\n",
    "    ],\n",
    "    [\n",
    "        [10 , 11 , 98 , 99 , 61 , 76],[10 , 11 , 98 , 99 , 61 , 76]\n",
    "    ],\n",
    "    \n",
    "])\n",
    "print(\"Tendor  = \",tensor)"
   ]
  }
 ],
 "metadata": {
  "kernelspec": {
   "display_name": "env",
   "language": "python",
   "name": "python3"
  },
  "language_info": {
   "codemirror_mode": {
    "name": "ipython",
    "version": 3
   },
   "file_extension": ".py",
   "mimetype": "text/x-python",
   "name": "python",
   "nbconvert_exporter": "python",
   "pygments_lexer": "ipython3",
   "version": "3.12.2"
  }
 },
 "nbformat": 4,
 "nbformat_minor": 2
}
