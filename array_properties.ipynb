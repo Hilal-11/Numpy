{
 "cells": [
  {
   "cell_type": "markdown",
   "metadata": {},
   "source": [
    "Properties of Arrays "
   ]
  },
  {
   "cell_type": "code",
   "execution_count": 7,
   "metadata": {},
   "outputs": [],
   "source": [
    "import numpy as np"
   ]
  },
  {
   "cell_type": "markdown",
   "metadata": {},
   "source": [
    "Shape is a property it gets the shape of array ( number of rows and number of columns )   [Rows and Cloumns]"
   ]
  },
  {
   "cell_type": "code",
   "execution_count": 15,
   "metadata": {},
   "outputs": [
    {
     "name": "stdout",
     "output_type": "stream",
     "text": [
      "(2, 5)\n",
      "2\n",
      "10\n",
      "int64\n"
     ]
    }
   ],
   "source": [
    "data = np.array([\n",
    "    [1 ,2 , 3 , 4 , 5],\n",
    "    [6 ,4 , 9 , 10 , 3]\n",
    "])\n",
    "print(data.shape)\n",
    "print(data.ndim)\n",
    "print(data.size)\n",
    "print(data.dtype)\n",
    "\n",
    "\n"
   ]
  },
  {
   "cell_type": "markdown",
   "metadata": {},
   "source": [
    "Array Reshaping"
   ]
  },
  {
   "cell_type": "code",
   "execution_count": 23,
   "metadata": {},
   "outputs": [
    {
     "name": "stdout",
     "output_type": "stream",
     "text": [
      "Original Array = [ 0  1  2  3  4  5  6  7  8  9 10 11]\n",
      "[[ 0  1  2  3]\n",
      " [ 4  5  6  7]\n",
      " [ 8  9 10 11]]\n",
      "[ 0  1  2  3  4  5  6  7  8  9 10 11]\n",
      "[ 0  1  2  3  4  5  6  7  8  9 10 11]\n"
     ]
    }
   ],
   "source": [
    "array = np.arange(12)\n",
    "print(\"Original Array =\" ,array)\n",
    "\n",
    "\n",
    "reshape_array = array.reshape((3, 4))\n",
    "print(reshape_array)\n",
    "\n",
    "flatend = reshape_array.flatten()\n",
    "print(flatend)\n",
    "\n",
    "raveled = reshape_array.ravel()\n",
    "print(raveled)\n",
    "\n",
    "## ravel() method returns view instead of copy's the array  --original array\n"
   ]
  },
  {
   "cell_type": "code",
   "execution_count": 26,
   "metadata": {},
   "outputs": [
    {
     "name": "stdout",
     "output_type": "stream",
     "text": [
      "[[1 2 3 4]\n",
      " [5 6 7 8]\n",
      " [9 5 2 4]\n",
      " [6 8 9 1]]\n",
      "\n",
      "\n",
      "[[1 5 9 6]\n",
      " [2 6 5 8]\n",
      " [3 7 2 9]\n",
      " [4 8 4 1]]\n",
      "\n",
      "\n",
      "[[1 5 9 6]\n",
      " [2 6 5 8]\n",
      " [3 7 2 9]\n",
      " [4 8 4 1]]\n"
     ]
    }
   ],
   "source": [
    "matrix = np.array([\n",
    "    [1 , 2 , 3 , 4],\n",
    "    [5 , 6 , 7 , 8],\n",
    "    [9 , 5 , 2 , 4],\n",
    "    [6 , 8 , 9 , 1]\n",
    "])\n",
    "print(matrix)\n",
    "print(\"\\n\")\n",
    "transpose = matrix.transpose()\n",
    "print(transpose)\n",
    "print(\"\\n\")\n",
    "T = matrix.T\n",
    "print(T)"
   ]
  }
 ],
 "metadata": {
  "kernelspec": {
   "display_name": "env",
   "language": "python",
   "name": "python3"
  },
  "language_info": {
   "codemirror_mode": {
    "name": "ipython",
    "version": 3
   },
   "file_extension": ".py",
   "mimetype": "text/x-python",
   "name": "python",
   "nbconvert_exporter": "python",
   "pygments_lexer": "ipython3",
   "version": "3.12.2"
  }
 },
 "nbformat": 4,
 "nbformat_minor": 2
}
